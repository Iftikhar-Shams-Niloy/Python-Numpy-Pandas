{
  "nbformat": 4,
  "nbformat_minor": 0,
  "metadata": {
    "colab": {
      "provenance": [],
      "authorship_tag": "ABX9TyPNpsS4xTCRgWFkAbOMYDMC"
    },
    "kernelspec": {
      "name": "python3",
      "display_name": "Python 3"
    },
    "language_info": {
      "name": "python"
    }
  },
  "cells": [
    {
      "cell_type": "markdown",
      "source": [
        "# <<< Pandas >>>"
      ],
      "metadata": {
        "id": "bZntK_a7NCEn"
      }
    },
    {
      "cell_type": "code",
      "execution_count": 2,
      "metadata": {
        "id": "hdBdnr61t9zc"
      },
      "outputs": [],
      "source": [
        "import numpy as np"
      ]
    },
    {
      "cell_type": "code",
      "source": [
        "import pandas as pd"
      ],
      "metadata": {
        "id": "GCqw2icAVnJc"
      },
      "execution_count": 3,
      "outputs": []
    },
    {
      "cell_type": "markdown",
      "source": [
        "## To load the documentation of Pandas library, run the codeline below!⬇️"
      ],
      "metadata": {
        "id": "3m0P_REAV7tZ"
      }
    },
    {
      "cell_type": "code",
      "source": [
        "# help(pd.Series)"
      ],
      "metadata": {
        "collapsed": true,
        "id": "7zmKaEmDVozz"
      },
      "execution_count": 4,
      "outputs": []
    },
    {
      "cell_type": "markdown",
      "source": [
        "# Pandas Series"
      ],
      "metadata": {
        "id": "Lk6kAiYKWSMz"
      }
    },
    {
      "cell_type": "code",
      "source": [
        "productNames = [\"PS4 Pro\", \"PS5 Pro\", \"Custom Built PC\", \"Laptop\"]\n",
        "productPrices = [400, 700, 1500, 1200]"
      ],
      "metadata": {
        "id": "aqvZTR2NV0Pr"
      },
      "execution_count": 5,
      "outputs": []
    },
    {
      "cell_type": "markdown",
      "source": [
        "---\n",
        "\n",
        "If we only provide 'data' for the series, the pd.series will generate an index automatically."
      ],
      "metadata": {
        "id": "Bn7Xoa5QXg5T"
      }
    },
    {
      "cell_type": "code",
      "source": [
        "myWishlist = pd.Series(data=productPrices)\n",
        "print(myWishlist)"
      ],
      "metadata": {
        "colab": {
          "base_uri": "https://localhost:8080/"
        },
        "id": "3ipF2FGsWwcJ",
        "outputId": "1986a239-2e03-460f-c203-8339f3a4df8e"
      },
      "execution_count": 6,
      "outputs": [
        {
          "output_type": "stream",
          "name": "stdout",
          "text": [
            "0     400\n",
            "1     700\n",
            "2    1500\n",
            "3    1200\n",
            "dtype: int64\n"
          ]
        }
      ]
    },
    {
      "cell_type": "markdown",
      "source": [
        "---\n",
        "If we manually provide a **list of names** for index and a **list of datas** as data of pd.series, then it will align the data and index name according to the sequence of both lists."
      ],
      "metadata": {
        "id": "1jh--UnoXsxl"
      }
    },
    {
      "cell_type": "code",
      "source": [
        "myWishlist = pd.Series(index=productNames, data=productPrices)\n",
        "print(myWishlist)"
      ],
      "metadata": {
        "colab": {
          "base_uri": "https://localhost:8080/"
        },
        "id": "jnzJXEz0W365",
        "outputId": "ffe9ed2a-a59e-4242-9fa3-21b596aee22e"
      },
      "execution_count": 7,
      "outputs": [
        {
          "output_type": "stream",
          "name": "stdout",
          "text": [
            "PS4 Pro             400\n",
            "PS5 Pro             700\n",
            "Custom Built PC    1500\n",
            "Laptop             1200\n",
            "dtype: int64\n"
          ]
        }
      ]
    },
    {
      "cell_type": "markdown",
      "source": [
        "---\n",
        "We can also use a **dictionary** tomake pandas series."
      ],
      "metadata": {
        "id": "BHDErDieYYdC"
      }
    },
    {
      "cell_type": "code",
      "source": [
        "wishes = {\"PS4 Pro\":400, \"PS5 Pro\":700, \"Custom Built PC\":1500}\n",
        "myWishlist2 = pd.Series(wishes)\n",
        "print(myWishlist2)"
      ],
      "metadata": {
        "colab": {
          "base_uri": "https://localhost:8080/"
        },
        "id": "1FMjhj6_XeQi",
        "outputId": "7c89a7ac-39e7-4fed-ec5f-92d37cd16def"
      },
      "execution_count": 8,
      "outputs": [
        {
          "output_type": "stream",
          "name": "stdout",
          "text": [
            "PS4 Pro             400\n",
            "PS5 Pro             700\n",
            "Custom Built PC    1500\n",
            "dtype: int64\n"
          ]
        }
      ]
    },
    {
      "cell_type": "markdown",
      "source": [
        "---\n",
        "We can access the value by index or by using the key in the panda series which is shown below. <br>\n",
        "This gives us the felixibility to work with index or as key:value pairs."
      ],
      "metadata": {
        "id": "jZ41ZmOJoHwT"
      }
    },
    {
      "cell_type": "code",
      "source": [
        "wishes = {\"PS4 Pro\":400, \"PS5 Pro\":700, \"Custom Built PC\":1500}\n",
        "myWishlist2 = pd.Series(wishes)\n",
        "\n",
        "print(myWishlist2.iloc[1]) # Accessing value using the index\n",
        "print(myWishlist2[\"PS5 Pro\"]) # Accessing value using the key"
      ],
      "metadata": {
        "id": "0-vbsjr_YxhY",
        "colab": {
          "base_uri": "https://localhost:8080/"
        },
        "outputId": "5d281f77-b824-4b39-b6e1-16d9516a55ca"
      },
      "execution_count": 14,
      "outputs": [
        {
          "output_type": "stream",
          "name": "stdout",
          "text": [
            "700\n",
            "700\n"
          ]
        }
      ]
    },
    {
      "cell_type": "markdown",
      "source": [
        "We can access all of the keys of a panda series using .key()"
      ],
      "metadata": {
        "id": "ymtj4pCHqOGW"
      }
    },
    {
      "cell_type": "code",
      "source": [
        "print(myWishlist2.keys())"
      ],
      "metadata": {
        "colab": {
          "base_uri": "https://localhost:8080/"
        },
        "id": "wdEZy_g0qOyZ",
        "outputId": "70efe4fc-dfb0-459c-9a7e-ba97837075d7"
      },
      "execution_count": 15,
      "outputs": [
        {
          "output_type": "stream",
          "name": "stdout",
          "text": [
            "Index(['PS4 Pro', 'PS5 Pro', 'Custom Built PC'], dtype='object')\n"
          ]
        }
      ]
    },
    {
      "cell_type": "markdown",
      "source": [
        "---\n",
        "We can use mathematical operations with the panda series. <br>\n",
        "It will do the operation to all the values of the series. <br>\n",
        "The example is given below."
      ],
      "metadata": {
        "id": "tpnFY3G_sK1H"
      }
    },
    {
      "cell_type": "code",
      "source": [
        "print(\"Original Series:\\n\",myWishlist)\n",
        "print(\"################################\")\n",
        "print(\"################################\")\n",
        "\n",
        "# Addition\n",
        "print(myWishlist + 99) # Adding number\n",
        "print(\"################################\")\n",
        "print(myWishlist + myWishlist2) # Adding 2 series\n",
        "print(\"################################\")\n",
        "# The code returns \"NaN\" if it founds a key that does not exists in both panda series\n",
        "# Operation does not effect the existing series\n",
        "\n",
        "# Substraction\n",
        "print(myWishlist - 99)\n",
        "print(\"################################\")\n",
        "print(myWishlist - myWishlist2)\n",
        "print(\"################################\")\n",
        "\n",
        "# Multiplication\n",
        "print(myWishlist * 10)\n",
        "print(\"################################\")\n",
        "\n",
        "# Division\n",
        "print(myWishlist / 100)\n",
        "print(\"################################\")"
      ],
      "metadata": {
        "colab": {
          "base_uri": "https://localhost:8080/"
        },
        "id": "Q8-BVjLZsfpV",
        "outputId": "04624b1a-7abb-45bb-eb8a-203018af500d"
      },
      "execution_count": 30,
      "outputs": [
        {
          "output_type": "stream",
          "name": "stdout",
          "text": [
            "Original Series:\n",
            " PS4 Pro             400\n",
            "PS5 Pro             700\n",
            "Custom Built PC    1500\n",
            "Laptop             1200\n",
            "dtype: int64\n",
            "################################\n",
            "################################\n",
            "PS4 Pro             499\n",
            "PS5 Pro             799\n",
            "Custom Built PC    1599\n",
            "Laptop             1299\n",
            "dtype: int64\n",
            "################################\n",
            "Custom Built PC    3000.0\n",
            "Laptop                NaN\n",
            "PS4 Pro             800.0\n",
            "PS5 Pro            1400.0\n",
            "dtype: float64\n",
            "################################\n",
            "PS4 Pro             301\n",
            "PS5 Pro             601\n",
            "Custom Built PC    1401\n",
            "Laptop             1101\n",
            "dtype: int64\n",
            "################################\n",
            "Custom Built PC    0.0\n",
            "Laptop             NaN\n",
            "PS4 Pro            0.0\n",
            "PS5 Pro            0.0\n",
            "dtype: float64\n",
            "################################\n",
            "PS4 Pro             4000\n",
            "PS5 Pro             7000\n",
            "Custom Built PC    15000\n",
            "Laptop             12000\n",
            "dtype: int64\n",
            "################################\n",
            "PS4 Pro             4.0\n",
            "PS5 Pro             7.0\n",
            "Custom Built PC    15.0\n",
            "Laptop             12.0\n",
            "dtype: float64\n",
            "################################\n"
          ]
        }
      ]
    },
    {
      "cell_type": "markdown",
      "source": [
        "---\n",
        "To avoid the \"Nan\" value, we can use the .add() function to add two panda series together. <br>\n",
        "This will add 2 values if the keys matches. <br>\n",
        "Or it will create a new key:value pair if it founds incomparable key:value pair."
      ],
      "metadata": {
        "id": "4dmVV9sou5m2"
      }
    },
    {
      "cell_type": "code",
      "source": [
        "purchase1 = pd.Series({'Gamepad':50, 'Phone':1000, 'Laptop':1200})\n",
        "purchase2 = pd.Series({'Gamepad':100, 'Phone':800, 'Desktop PC': 1500})\n",
        "\n",
        "purchase1.add(purchase2, fill_value=0)"
      ],
      "metadata": {
        "colab": {
          "base_uri": "https://localhost:8080/",
          "height": 209
        },
        "id": "WC_-rMjfniLm",
        "outputId": "bc391c6a-3a2d-41cb-cb16-4159a352c539"
      },
      "execution_count": 35,
      "outputs": [
        {
          "output_type": "execute_result",
          "data": {
            "text/plain": [
              "Desktop PC    1500.0\n",
              "Gamepad        150.0\n",
              "Laptop        1200.0\n",
              "Phone         1800.0\n",
              "dtype: float64"
            ],
            "text/html": [
              "<div>\n",
              "<style scoped>\n",
              "    .dataframe tbody tr th:only-of-type {\n",
              "        vertical-align: middle;\n",
              "    }\n",
              "\n",
              "    .dataframe tbody tr th {\n",
              "        vertical-align: top;\n",
              "    }\n",
              "\n",
              "    .dataframe thead th {\n",
              "        text-align: right;\n",
              "    }\n",
              "</style>\n",
              "<table border=\"1\" class=\"dataframe\">\n",
              "  <thead>\n",
              "    <tr style=\"text-align: right;\">\n",
              "      <th></th>\n",
              "      <th>0</th>\n",
              "    </tr>\n",
              "  </thead>\n",
              "  <tbody>\n",
              "    <tr>\n",
              "      <th>Desktop PC</th>\n",
              "      <td>1500.0</td>\n",
              "    </tr>\n",
              "    <tr>\n",
              "      <th>Gamepad</th>\n",
              "      <td>150.0</td>\n",
              "    </tr>\n",
              "    <tr>\n",
              "      <th>Laptop</th>\n",
              "      <td>1200.0</td>\n",
              "    </tr>\n",
              "    <tr>\n",
              "      <th>Phone</th>\n",
              "      <td>1800.0</td>\n",
              "    </tr>\n",
              "  </tbody>\n",
              "</table>\n",
              "</div><br><label><b>dtype:</b> float64</label>"
            ]
          },
          "metadata": {},
          "execution_count": 35
        }
      ]
    },
    {
      "cell_type": "code",
      "source": [],
      "metadata": {
        "id": "XOZLKr08wM6l"
      },
      "execution_count": null,
      "outputs": []
    }
  ]
}