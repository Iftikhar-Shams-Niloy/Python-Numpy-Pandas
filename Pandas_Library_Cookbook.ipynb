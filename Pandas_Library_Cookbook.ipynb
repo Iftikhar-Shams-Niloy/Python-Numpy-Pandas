{
  "nbformat": 4,
  "nbformat_minor": 0,
  "metadata": {
    "colab": {
      "provenance": [],
      "authorship_tag": "ABX9TyMj29sNjfUKzbiJeq98lFQF"
    },
    "kernelspec": {
      "name": "python3",
      "display_name": "Python 3"
    },
    "language_info": {
      "name": "python"
    }
  },
  "cells": [
    {
      "cell_type": "markdown",
      "source": [
        "# <<< Pandas >>>"
      ],
      "metadata": {
        "id": "bZntK_a7NCEn"
      }
    },
    {
      "cell_type": "code",
      "execution_count": null,
      "metadata": {
        "id": "hdBdnr61t9zc"
      },
      "outputs": [],
      "source": [
        "import numpy as np"
      ]
    },
    {
      "cell_type": "code",
      "source": [
        "import pandas as pd"
      ],
      "metadata": {
        "id": "GCqw2icAVnJc"
      },
      "execution_count": null,
      "outputs": []
    },
    {
      "cell_type": "markdown",
      "source": [
        "## To load the documentation of Pandas library, run the codeline below!⬇️"
      ],
      "metadata": {
        "id": "3m0P_REAV7tZ"
      }
    },
    {
      "cell_type": "code",
      "source": [
        "# help(pd.Series)"
      ],
      "metadata": {
        "collapsed": true,
        "id": "7zmKaEmDVozz"
      },
      "execution_count": null,
      "outputs": []
    },
    {
      "cell_type": "markdown",
      "source": [
        "# Pandas Series"
      ],
      "metadata": {
        "id": "Lk6kAiYKWSMz"
      }
    },
    {
      "cell_type": "code",
      "source": [
        "productNames = [\"PS4 Pro\", \"PS5 Pro\", \"Custom Built PC\", \"Laptop\"]\n",
        "productPrices = [400, 700, 1500, 1200]"
      ],
      "metadata": {
        "id": "aqvZTR2NV0Pr"
      },
      "execution_count": null,
      "outputs": []
    },
    {
      "cell_type": "markdown",
      "source": [
        "---\n",
        "\n",
        "If we only provide 'data' for the series, the pd.series will generate an index automatically."
      ],
      "metadata": {
        "id": "Bn7Xoa5QXg5T"
      }
    },
    {
      "cell_type": "code",
      "source": [
        "myWishlist = pd.Series(data=productPrices)\n",
        "print(myWishlist)"
      ],
      "metadata": {
        "colab": {
          "base_uri": "https://localhost:8080/"
        },
        "id": "3ipF2FGsWwcJ",
        "outputId": "1986a239-2e03-460f-c203-8339f3a4df8e"
      },
      "execution_count": null,
      "outputs": [
        {
          "output_type": "stream",
          "name": "stdout",
          "text": [
            "0     400\n",
            "1     700\n",
            "2    1500\n",
            "3    1200\n",
            "dtype: int64\n"
          ]
        }
      ]
    },
    {
      "cell_type": "markdown",
      "source": [
        "---\n",
        "If we manually provide a **list of names** for index and a **list of datas** as data of pd.series, then it will align the data and index name according to the sequence of both lists."
      ],
      "metadata": {
        "id": "1jh--UnoXsxl"
      }
    },
    {
      "cell_type": "code",
      "source": [
        "myWishlist = pd.Series(index=productNames, data=productPrices)\n",
        "print(myWishlist)"
      ],
      "metadata": {
        "colab": {
          "base_uri": "https://localhost:8080/"
        },
        "id": "jnzJXEz0W365",
        "outputId": "ffe9ed2a-a59e-4242-9fa3-21b596aee22e"
      },
      "execution_count": null,
      "outputs": [
        {
          "output_type": "stream",
          "name": "stdout",
          "text": [
            "PS4 Pro             400\n",
            "PS5 Pro             700\n",
            "Custom Built PC    1500\n",
            "Laptop             1200\n",
            "dtype: int64\n"
          ]
        }
      ]
    },
    {
      "cell_type": "markdown",
      "source": [
        "---\n",
        "We can also use a **dictionary** tomake pandas series."
      ],
      "metadata": {
        "id": "BHDErDieYYdC"
      }
    },
    {
      "cell_type": "code",
      "source": [
        "wishes = {\"PS4 Pro\":400, \"PS5 Pro\":700, \"Custom Built PC\":1500}\n",
        "myWishlist2 = pd.Series(wishes)\n",
        "print(myWishlist2)"
      ],
      "metadata": {
        "colab": {
          "base_uri": "https://localhost:8080/"
        },
        "id": "1FMjhj6_XeQi",
        "outputId": "7c89a7ac-39e7-4fed-ec5f-92d37cd16def"
      },
      "execution_count": null,
      "outputs": [
        {
          "output_type": "stream",
          "name": "stdout",
          "text": [
            "PS4 Pro             400\n",
            "PS5 Pro             700\n",
            "Custom Built PC    1500\n",
            "dtype: int64\n"
          ]
        }
      ]
    },
    {
      "cell_type": "markdown",
      "source": [
        "---\n",
        "We can access the value by index or by using the key in the panda series which is shown below. <br>\n",
        "This gives us the felixibility to work with index or as key:value pairs."
      ],
      "metadata": {
        "id": "jZ41ZmOJoHwT"
      }
    },
    {
      "cell_type": "code",
      "source": [
        "wishes = {\"PS4 Pro\":400, \"PS5 Pro\":700, \"Custom Built PC\":1500}\n",
        "myWishlist2 = pd.Series(wishes)\n",
        "\n",
        "print(myWishlist2.iloc[1]) # Accessing value using the index\n",
        "print(myWishlist2[\"PS5 Pro\"]) # Accessing value using the key"
      ],
      "metadata": {
        "id": "0-vbsjr_YxhY",
        "colab": {
          "base_uri": "https://localhost:8080/"
        },
        "outputId": "5d281f77-b824-4b39-b6e1-16d9516a55ca"
      },
      "execution_count": null,
      "outputs": [
        {
          "output_type": "stream",
          "name": "stdout",
          "text": [
            "700\n",
            "700\n"
          ]
        }
      ]
    },
    {
      "cell_type": "markdown",
      "source": [
        "We can access all of the keys of a panda series using .key()"
      ],
      "metadata": {
        "id": "ymtj4pCHqOGW"
      }
    },
    {
      "cell_type": "code",
      "source": [
        "print(myWishlist2.keys())"
      ],
      "metadata": {
        "colab": {
          "base_uri": "https://localhost:8080/"
        },
        "id": "wdEZy_g0qOyZ",
        "outputId": "70efe4fc-dfb0-459c-9a7e-ba97837075d7"
      },
      "execution_count": null,
      "outputs": [
        {
          "output_type": "stream",
          "name": "stdout",
          "text": [
            "Index(['PS4 Pro', 'PS5 Pro', 'Custom Built PC'], dtype='object')\n"
          ]
        }
      ]
    },
    {
      "cell_type": "markdown",
      "source": [
        "---\n",
        "We can use mathematical operations with the panda series. <br>\n",
        "It will do the operation to all the values of the series. <br>\n",
        "The example is given below."
      ],
      "metadata": {
        "id": "tpnFY3G_sK1H"
      }
    },
    {
      "cell_type": "code",
      "source": [
        "print(\"Original Series:\\n\",myWishlist)\n",
        "print(\"################################\")\n",
        "print(\"################################\")\n",
        "\n",
        "# Addition\n",
        "print(myWishlist + 99) # Adding number\n",
        "print(\"################################\")\n",
        "print(myWishlist + myWishlist2) # Adding 2 series\n",
        "print(\"################################\")\n",
        "# The code returns \"NaN\" if it founds a key that does not exists in both panda series\n",
        "# Operation does not effect the existing series\n",
        "\n",
        "# Substraction\n",
        "print(myWishlist - 99)\n",
        "print(\"################################\")\n",
        "print(myWishlist - myWishlist2)\n",
        "print(\"################################\")\n",
        "\n",
        "# Multiplication\n",
        "print(myWishlist * 10)\n",
        "print(\"################################\")\n",
        "\n",
        "# Division\n",
        "print(myWishlist / 100)\n",
        "print(\"################################\")"
      ],
      "metadata": {
        "colab": {
          "base_uri": "https://localhost:8080/"
        },
        "id": "Q8-BVjLZsfpV",
        "outputId": "04624b1a-7abb-45bb-eb8a-203018af500d"
      },
      "execution_count": null,
      "outputs": [
        {
          "output_type": "stream",
          "name": "stdout",
          "text": [
            "Original Series:\n",
            " PS4 Pro             400\n",
            "PS5 Pro             700\n",
            "Custom Built PC    1500\n",
            "Laptop             1200\n",
            "dtype: int64\n",
            "################################\n",
            "################################\n",
            "PS4 Pro             499\n",
            "PS5 Pro             799\n",
            "Custom Built PC    1599\n",
            "Laptop             1299\n",
            "dtype: int64\n",
            "################################\n",
            "Custom Built PC    3000.0\n",
            "Laptop                NaN\n",
            "PS4 Pro             800.0\n",
            "PS5 Pro            1400.0\n",
            "dtype: float64\n",
            "################################\n",
            "PS4 Pro             301\n",
            "PS5 Pro             601\n",
            "Custom Built PC    1401\n",
            "Laptop             1101\n",
            "dtype: int64\n",
            "################################\n",
            "Custom Built PC    0.0\n",
            "Laptop             NaN\n",
            "PS4 Pro            0.0\n",
            "PS5 Pro            0.0\n",
            "dtype: float64\n",
            "################################\n",
            "PS4 Pro             4000\n",
            "PS5 Pro             7000\n",
            "Custom Built PC    15000\n",
            "Laptop             12000\n",
            "dtype: int64\n",
            "################################\n",
            "PS4 Pro             4.0\n",
            "PS5 Pro             7.0\n",
            "Custom Built PC    15.0\n",
            "Laptop             12.0\n",
            "dtype: float64\n",
            "################################\n"
          ]
        }
      ]
    },
    {
      "cell_type": "markdown",
      "source": [
        "---\n",
        "To avoid the \"Nan\" value, we can use the .add() function to add two panda series together. <br>\n",
        "This will add 2 values if the keys matches. <br>\n",
        "Or it will create a new key:value pair if it founds incomparable key:value pair."
      ],
      "metadata": {
        "id": "4dmVV9sou5m2"
      }
    },
    {
      "cell_type": "code",
      "source": [
        "purchase1 = pd.Series({'Gamepad':50, 'Phone':1000, 'Laptop':1200})\n",
        "purchase2 = pd.Series({'Gamepad':100, 'Phone':800, 'Desktop PC': 1500})\n",
        "\n",
        "purchase1.add(purchase2, fill_value=0)"
      ],
      "metadata": {
        "colab": {
          "base_uri": "https://localhost:8080/",
          "height": 209
        },
        "id": "WC_-rMjfniLm",
        "outputId": "bc391c6a-3a2d-41cb-cb16-4159a352c539"
      },
      "execution_count": null,
      "outputs": [
        {
          "output_type": "execute_result",
          "data": {
            "text/plain": [
              "Desktop PC    1500.0\n",
              "Gamepad        150.0\n",
              "Laptop        1200.0\n",
              "Phone         1800.0\n",
              "dtype: float64"
            ],
            "text/html": [
              "<div>\n",
              "<style scoped>\n",
              "    .dataframe tbody tr th:only-of-type {\n",
              "        vertical-align: middle;\n",
              "    }\n",
              "\n",
              "    .dataframe tbody tr th {\n",
              "        vertical-align: top;\n",
              "    }\n",
              "\n",
              "    .dataframe thead th {\n",
              "        text-align: right;\n",
              "    }\n",
              "</style>\n",
              "<table border=\"1\" class=\"dataframe\">\n",
              "  <thead>\n",
              "    <tr style=\"text-align: right;\">\n",
              "      <th></th>\n",
              "      <th>0</th>\n",
              "    </tr>\n",
              "  </thead>\n",
              "  <tbody>\n",
              "    <tr>\n",
              "      <th>Desktop PC</th>\n",
              "      <td>1500.0</td>\n",
              "    </tr>\n",
              "    <tr>\n",
              "      <th>Gamepad</th>\n",
              "      <td>150.0</td>\n",
              "    </tr>\n",
              "    <tr>\n",
              "      <th>Laptop</th>\n",
              "      <td>1200.0</td>\n",
              "    </tr>\n",
              "    <tr>\n",
              "      <th>Phone</th>\n",
              "      <td>1800.0</td>\n",
              "    </tr>\n",
              "  </tbody>\n",
              "</table>\n",
              "</div><br><label><b>dtype:</b> float64</label>"
            ]
          },
          "metadata": {},
          "execution_count": 35
        }
      ]
    },
    {
      "cell_type": "markdown",
      "source": [
        "---\n",
        "\n",
        "# <<< DataFrame >>>\n",
        "\n",
        "### Introduction"
      ],
      "metadata": {
        "id": "uucuisEB2P9u"
      }
    },
    {
      "cell_type": "code",
      "source": [
        "import numpy as np\n",
        "import pandas as pd\n",
        "\n",
        "np.random.seed(101)\n",
        "myData = np.random.randint(0,21,(4,3))\n",
        "myColumns = [\"January\", \"February\", \"March\"]\n",
        "myIndex = [\"Mohammadpur\", \"Mirpur\", \"Dhanmondi\", \"Badda\"]\n",
        "\n",
        "# If only data is provided\n",
        "my_df = pd.DataFrame(data = myData)\n",
        "print(my_df)\n",
        "print(\"###############################\")\n",
        "\n",
        "# If indexes are added\n",
        "my_df = pd.DataFrame(data=myData, index=myIndex)\n",
        "print(my_df)\n",
        "print(\"###############################\")\n",
        "\n",
        "# If column names are also provided\n",
        "my_df = pd.DataFrame(data=myData, index=myIndex, columns=myColumns)\n",
        "print(my_df)\n",
        "print(\"###############################\")\n",
        "\n",
        "# To get the dataframe information, we can use .info()\n",
        "print(my_df.info())"
      ],
      "metadata": {
        "colab": {
          "base_uri": "https://localhost:8080/"
        },
        "id": "XOZLKr08wM6l",
        "outputId": "c8e1a318-87b0-4525-f2da-7add93767809"
      },
      "execution_count": null,
      "outputs": [
        {
          "output_type": "stream",
          "name": "stdout",
          "text": [
            "    0   1   2\n",
            "0  11  17   6\n",
            "1  11  15   9\n",
            "2  13   8   4\n",
            "3   8   0  14\n",
            "###############################\n",
            "              0   1   2\n",
            "Mohammadpur  11  17   6\n",
            "Mirpur       11  15   9\n",
            "Dhanmondi    13   8   4\n",
            "Badda         8   0  14\n",
            "###############################\n",
            "             January  February  March\n",
            "Mohammadpur       11        17      6\n",
            "Mirpur            11        15      9\n",
            "Dhanmondi         13         8      4\n",
            "Badda              8         0     14\n",
            "###############################\n",
            "<class 'pandas.core.frame.DataFrame'>\n",
            "Index: 4 entries, Mohammadpur to Badda\n",
            "Data columns (total 3 columns):\n",
            " #   Column    Non-Null Count  Dtype\n",
            "---  ------    --------------  -----\n",
            " 0   January   4 non-null      int64\n",
            " 1   February  4 non-null      int64\n",
            " 2   March     4 non-null      int64\n",
            "dtypes: int64(3)\n",
            "memory usage: 128.0+ bytes\n",
            "None\n"
          ]
        }
      ]
    },
    {
      "cell_type": "code",
      "source": [
        "pwd"
      ],
      "metadata": {
        "colab": {
          "base_uri": "https://localhost:8080/",
          "height": 36
        },
        "id": "CIVNJ_XA3NX3",
        "outputId": "75318381-49d8-4226-bc1a-3f22cdeb46b8"
      },
      "execution_count": null,
      "outputs": [
        {
          "output_type": "execute_result",
          "data": {
            "text/plain": [
              "'/content'"
            ],
            "application/vnd.google.colaboratory.intrinsic+json": {
              "type": "string"
            }
          },
          "metadata": {},
          "execution_count": 44
        }
      ]
    },
    {
      "cell_type": "code",
      "source": [],
      "metadata": {
        "id": "bnbtigIPIjdO"
      },
      "execution_count": null,
      "outputs": []
    }
  ]
}