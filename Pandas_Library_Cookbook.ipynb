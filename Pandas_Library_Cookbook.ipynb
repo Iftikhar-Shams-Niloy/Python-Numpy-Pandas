{
  "nbformat": 4,
  "nbformat_minor": 0,
  "metadata": {
    "colab": {
      "provenance": [],
      "authorship_tag": "ABX9TyNr+94XOwiOfBUGUvLSHWHP",
      "include_colab_link": true
    },
    "kernelspec": {
      "name": "python3",
      "display_name": "Python 3"
    },
    "language_info": {
      "name": "python"
    }
  },
  "cells": [
    {
      "cell_type": "markdown",
      "metadata": {
        "id": "view-in-github",
        "colab_type": "text"
      },
      "source": [
        "<a href=\"https://colab.research.google.com/github/Iftikhar-Shams-Niloy/Python-Numpy-Pandas/blob/main/Pandas_Library_Cookbook.ipynb\" target=\"_parent\"><img src=\"https://colab.research.google.com/assets/colab-badge.svg\" alt=\"Open In Colab\"/></a>"
      ]
    },
    {
      "cell_type": "markdown",
      "source": [
        "# <<< Pandas >>>"
      ],
      "metadata": {
        "id": "bZntK_a7NCEn"
      }
    },
    {
      "cell_type": "code",
      "execution_count": 3,
      "metadata": {
        "id": "hdBdnr61t9zc"
      },
      "outputs": [],
      "source": [
        "import numpy as np"
      ]
    },
    {
      "cell_type": "code",
      "source": [
        "import pandas as pd"
      ],
      "metadata": {
        "id": "GCqw2icAVnJc"
      },
      "execution_count": 5,
      "outputs": []
    },
    {
      "cell_type": "markdown",
      "source": [
        "## To load the documentation of Pandas library, run the codeline below!⬇️"
      ],
      "metadata": {
        "id": "3m0P_REAV7tZ"
      }
    },
    {
      "cell_type": "code",
      "source": [
        "help(pd.Series)"
      ],
      "metadata": {
        "collapsed": true,
        "id": "7zmKaEmDVozz"
      },
      "execution_count": 15,
      "outputs": []
    },
    {
      "cell_type": "markdown",
      "source": [
        "# Pandas Series"
      ],
      "metadata": {
        "id": "Lk6kAiYKWSMz"
      }
    },
    {
      "cell_type": "code",
      "source": [
        "productNames = [\"PS4 Pro\", \"PS5 Pro\", \"Custom Built PC\", \"Laptop\"]\n",
        "productPrices = [400, 700, 1500, 1200]"
      ],
      "metadata": {
        "id": "aqvZTR2NV0Pr"
      },
      "execution_count": 9,
      "outputs": []
    },
    {
      "cell_type": "markdown",
      "source": [
        "---\n",
        "\n",
        "If we only provide 'data' for the series, the pd.series will generate an index automatically."
      ],
      "metadata": {
        "id": "Bn7Xoa5QXg5T"
      }
    },
    {
      "cell_type": "code",
      "source": [
        "myWishlist = pd.Series(data=productPrices)\n",
        "print(myWishlist)"
      ],
      "metadata": {
        "colab": {
          "base_uri": "https://localhost:8080/"
        },
        "id": "3ipF2FGsWwcJ",
        "outputId": "66559260-b637-49d5-faf9-caeef30308f7"
      },
      "execution_count": 12,
      "outputs": [
        {
          "output_type": "stream",
          "name": "stdout",
          "text": [
            "0     400\n",
            "1     700\n",
            "2    1500\n",
            "3    1200\n",
            "dtype: int64\n"
          ]
        }
      ]
    },
    {
      "cell_type": "markdown",
      "source": [
        "---\n",
        "If we manually provide a **list of names** for index and a **list of datas** as data of pd.series, then it will align the data and index name according to the sequence of both lists."
      ],
      "metadata": {
        "id": "1jh--UnoXsxl"
      }
    },
    {
      "cell_type": "code",
      "source": [
        "myWishlist = pd.Series(index=productNames, data=productPrices)\n",
        "print(myWishlist)"
      ],
      "metadata": {
        "colab": {
          "base_uri": "https://localhost:8080/"
        },
        "id": "jnzJXEz0W365",
        "outputId": "32d13434-8191-4a22-e0be-01a43e03702b"
      },
      "execution_count": 13,
      "outputs": [
        {
          "output_type": "stream",
          "name": "stdout",
          "text": [
            "PS4 Pro             400\n",
            "PS5 Pro             700\n",
            "Custom Built PC    1500\n",
            "Laptop             1200\n",
            "dtype: int64\n"
          ]
        }
      ]
    },
    {
      "cell_type": "markdown",
      "source": [
        "---\n",
        "We can also use a **dictionary** tomake pandas series."
      ],
      "metadata": {
        "id": "BHDErDieYYdC"
      }
    },
    {
      "cell_type": "code",
      "source": [
        "wishes = {\"PS4 Pro\":400, \"PS5 Pro\":700, \"Custom Built PC\":1500}\n",
        "myWishlist2 = pd.Series(wishes)\n",
        "print(myWishlist2)"
      ],
      "metadata": {
        "colab": {
          "base_uri": "https://localhost:8080/"
        },
        "id": "1FMjhj6_XeQi",
        "outputId": "40408450-3f73-402b-ec07-3ad53957a21e"
      },
      "execution_count": 14,
      "outputs": [
        {
          "output_type": "stream",
          "name": "stdout",
          "text": [
            "PS4 Pro             400\n",
            "PS5 Pro             700\n",
            "Custom Built PC    1500\n",
            "dtype: int64\n"
          ]
        }
      ]
    },
    {
      "cell_type": "code",
      "source": [],
      "metadata": {
        "id": "0-vbsjr_YxhY"
      },
      "execution_count": null,
      "outputs": []
    }
  ]
}